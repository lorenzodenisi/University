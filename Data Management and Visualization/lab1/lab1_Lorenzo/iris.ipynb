{
 "cells": [
  {
   "cell_type": "code",
   "execution_count": 190,
   "metadata": {},
   "outputs": [],
   "source": [
    "import csv\n",
    "import math\n",
    "\n",
    "data = []\n",
    "\n",
    "sepal_l = []\n",
    "sepal_w = []\n",
    "petal_l = []\n",
    "petal_w = [] \n",
    "label = []\n",
    "\n",
    "with open(\"iris.data\") as f:\n",
    "    for cols in csv.reader(f):\n",
    "        row = []\n",
    "        if len(cols) == 5:\n",
    "            sepal_l.append(float(cols[0]))\n",
    "            sepal_w.append(float(cols[1]))\n",
    "            petal_l.append(float(cols[2]))\n",
    "            petal_w.append(float(cols[3]))\n",
    "            label.append(cols[4])\n",
    "            \n",
    "data.append([sepal_l, sepal_w, petal_l, petal_w, label])"
   ]
  },
  {
   "cell_type": "code",
   "execution_count": 89,
   "metadata": {},
   "outputs": [],
   "source": [
    "def mean(array):\n",
    "    n = len(array)\n",
    "    if n == 0:\n",
    "        return 0\n",
    "    sum = 0\n",
    "    \n",
    "    for elem in array:\n",
    "        sum += elem\n",
    "        \n",
    "    return sum/n"
   ]
  },
  {
   "cell_type": "code",
   "execution_count": 90,
   "metadata": {},
   "outputs": [],
   "source": [
    "def std_dev(array):\n",
    "    n = len(array)\n",
    "    mu = mean(array)\n",
    "    \n",
    "    sum = 0\n",
    "    for elem in array:\n",
    "        sum += (elem-mu)**2\n",
    "    \n",
    "    return math.sqrt(sum/n) "
   ]
  },
  {
   "cell_type": "code",
   "execution_count": 91,
   "metadata": {},
   "outputs": [
    {
     "name": "stdout",
     "output_type": "stream",
     "text": [
      "MEAN 5.843333333333335\n",
      "STANDARD DEVIATION 0.8253012917851409\n"
     ]
    }
   ],
   "source": [
    "print('MEAN ' + str(mean(sepal_l)))\n",
    "print('STANDARD DEVIATION ' + str(std_dev(sepal_l)))"
   ]
  },
  {
   "cell_type": "code",
   "execution_count": 214,
   "metadata": {},
   "outputs": [],
   "source": [
    "def get_stats(data, specie=None):\n",
    "    local_sepal_l = []\n",
    "    local_sepal_w = []\n",
    "    local_petal_l = []\n",
    "    local_petal_w = [] \n",
    "            \n",
    "    for i in range(len(data[0][4])):\n",
    "        if data[0][4][i] == specie or specie == None:\n",
    "            local_sepal_l.append(float(data[0][0][i]))\n",
    "            local_sepal_w.append(float(data[0][1][i]))\n",
    "            local_petal_l.append(float(data[0][2][i]))\n",
    "            local_petal_w.append(float(data[0][3][i]))\n",
    "            \n",
    "    if specie != None:       \n",
    "        print(specie+':')\n",
    "    \n",
    "    print('MEAN \\t\\t\\t' + str(round(mean(local_sepal_l), 1))+' '+str(round(mean(local_sepal_w),1))+' '+str(round(mean(local_petal_l),1))+' '+str(round(mean(local_petal_w), 1)))\n",
    "    print('STANDARD DEVIATION \\t' + str(round(std_dev(local_sepal_l), 1))+' '+str(round(std_dev(local_sepal_w),1))+' '+str(round(std_dev(local_petal_l),1))+' '+str(round(std_dev(local_petal_w), 1)))\n",
    "    "
   ]
  },
  {
   "cell_type": "code",
   "execution_count": 215,
   "metadata": {
    "scrolled": true
   },
   "outputs": [
    {
     "name": "stdout",
     "output_type": "stream",
     "text": [
      "MEAN \t\t\t5.8 3.1 3.8 1.2\n",
      "STANDARD DEVIATION \t0.8 0.4 1.8 0.8\n",
      "Iris-virginica:\n",
      "MEAN \t\t\t6.6 3.0 5.6 2.0\n",
      "STANDARD DEVIATION \t0.6 0.3 0.5 0.3\n",
      "Iris-versicolor:\n",
      "MEAN \t\t\t5.9 2.8 4.3 1.3\n",
      "STANDARD DEVIATION \t0.5 0.3 0.5 0.2\n",
      "Iris-setosa:\n",
      "MEAN \t\t\t5.0 3.4 1.5 0.2\n",
      "STANDARD DEVIATION \t0.3 0.4 0.2 0.1\n"
     ]
    }
   ],
   "source": [
    "get_stats(data)\n",
    "get_stats(data, 'Iris-virginica')\n",
    "get_stats(data, 'Iris-versicolor')\n",
    "get_stats(data, 'Iris-setosa')"
   ]
  }
 ],
 "metadata": {
  "kernelspec": {
   "display_name": "Python 3",
   "language": "python",
   "name": "python3"
  },
  "language_info": {
   "codemirror_mode": {
    "name": "ipython",
    "version": 3
   },
   "file_extension": ".py",
   "mimetype": "text/x-python",
   "name": "python",
   "nbconvert_exporter": "python",
   "pygments_lexer": "ipython3",
   "version": "3.7.4"
  }
 },
 "nbformat": 4,
 "nbformat_minor": 2
}
