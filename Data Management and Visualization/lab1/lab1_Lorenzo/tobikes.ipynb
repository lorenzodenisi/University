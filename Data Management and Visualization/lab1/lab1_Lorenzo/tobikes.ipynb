{
 "cells": [
  {
   "cell_type": "code",
   "execution_count": 1,
   "metadata": {},
   "outputs": [
    {
     "name": "stdout",
     "output_type": "stream",
     "text": [
      "159\n",
      "[1, 2, 3, 4, 5, 6, 7, 8, 9, 10, 11, 12, 14, 15, 16, 17, 18, 19, 20, 21, 22, 23, 24, 25, 26, 27, 28, 29, 30, 31, 32, 33, 13, 34, 35, 36, 37, 38, 39, 40, 41, 42, 43, 44, 45, 46, 47, 48, 49, 50, 51, 52, 53, 54, 56, 116, 57, 58, 59, 61, 62, 63, 64, 66, 67, 68, 69, 70, 71, 72, 73, 75, 76, 77, 78, 79, 80, 81, 82, 83, 84, 85, 86, 87, 88, 89, 90, 91, 92, 93, 94, 95, 96, 97, 98, 99, 100, 102, 103, 104, 107, 108, 109, 110, 112, 113, 114, 115, 117, 118, 119, 120, 145, 121, 122, 124, 127, 130, 137, 141, 142, 152, 154, 156, 157, 158, 159, 160, 161, 163, 164, 165, 166, 167, 169, 170, 172, 173, 174, 180, 181, 185, 1, 4, 5, 8, 9, 1, 2, 4, 7, 8, 9, 2, 3, 6, 8, 10, 2]\n"
     ]
    }
   ],
   "source": [
    "import json\n",
    "with open('to-bike.json') as json_file:\n",
    "    data = json.load(json_file)\n",
    "\n",
    "online = []\n",
    "for station in data['network']['stations']:\n",
    "    if station['extra']['status'] == 'online':\n",
    "        online.append(station['extra']['number'])\n",
    "        \n",
    "print(len(online))\n",
    "print(online)\n",
    "\n"
   ]
  },
  {
   "cell_type": "code",
   "execution_count": 2,
   "metadata": {},
   "outputs": [
    {
     "name": "stdout",
     "output_type": "stream",
     "text": [
      "bikes: 295\n",
      "docks: 1084\n"
     ]
    }
   ],
   "source": [
    "bikes = 0\n",
    "docks = 0\n",
    "\n",
    "for station in data['network']['stations']:\n",
    "    if station['extra']['number'] in online:    \n",
    "        bikes += station['free_bikes']\n",
    "        docks += station['empty_slots']\n",
    "\n",
    "print('bikes: '+str(bikes))\n",
    "print('docks: '+str(docks))"
   ]
  },
  {
   "cell_type": "code",
   "execution_count": 3,
   "metadata": {},
   "outputs": [],
   "source": [
    "from math import cos, acos, sin\n",
    "def distance_coords(lat1, lng1, lat2, lng2):\n",
    "    \"\"\"Compute the distance among two points.\"\"\"\n",
    "    deg2rad = lambda x: x * 3.141592 / 180\n",
    "    lat1, lng1, lat2, lng2 = map(deg2rad, [ lat1, lng1, lat2, lng2 ])\n",
    "    R = 6378100 # Radius of the Earth, in meters\n",
    "    return R * acos(sin(lat1) * sin(lat2) + cos(lat1) * cos(lat2) * cos(lng1 - lng2))\n"
   ]
  },
  {
   "cell_type": "code",
   "execution_count": 4,
   "metadata": {},
   "outputs": [],
   "source": [
    "def get_closest(lat, lon):\n",
    "    closest_station = None\n",
    "    closest_distance = float('inf')\n",
    "    \n",
    "    for station in data['network']['stations']:\n",
    "        if station['extra']['number'] in online: \n",
    "            dist = distance_coords(lat, lon, station['latitude'], station['longitude'])\n",
    "            if dist < closest_distance:\n",
    "                closest_distance=dist\n",
    "                closest_station=station\n",
    "                \n",
    "    print(closest_station)\n",
    "    print('Distance='+str(closest_distance))"
   ]
  },
  {
   "cell_type": "code",
   "execution_count": 5,
   "metadata": {},
   "outputs": [
    {
     "name": "stdout",
     "output_type": "stream",
     "text": [
      "{'empty_slots': 11, 'extra': {'number': 100, 'reviews': 583, 'score': 4.3, 'status': 'online', 'uid': '350'}, 'free_bikes': 2, 'id': '1916e772eb3e6c88b37a0f584da1e333', 'latitude': 45.073583, 'longitude': 7.692797, 'name': 'Regina Margherita 3', 'timestamp': '2019-10-11T06:28:04.701000Z'}\n",
      "Distance=164.17482149485286\n"
     ]
    }
   ],
   "source": [
    "get_closest(45.074512, 7.694419)"
   ]
  }
 ],
 "metadata": {
  "kernelspec": {
   "display_name": "Python 3",
   "language": "python",
   "name": "python3"
  },
  "language_info": {
   "codemirror_mode": {
    "name": "ipython",
    "version": 3
   },
   "file_extension": ".py",
   "mimetype": "text/x-python",
   "name": "python",
   "nbconvert_exporter": "python",
   "pygments_lexer": "ipython3",
   "version": "3.7.4"
  }
 },
 "nbformat": 4,
 "nbformat_minor": 2
}
