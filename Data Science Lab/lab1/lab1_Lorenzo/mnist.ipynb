{
 "cells": [
  {
   "cell_type": "code",
   "execution_count": 3,
   "metadata": {},
   "outputs": [],
   "source": [
    "import math\n",
    "\n",
    "data = []\n",
    "labels = []\n",
    "j=0\n",
    "\n",
    "import csv\n",
    "with open('mnist_test.csv') as f:\n",
    "    for cols in csv.reader(f):\n",
    "        data.append([])\n",
    "        labels.append(int(cols[0]))\n",
    "        for i in range(1, len(cols)):\n",
    "            data[j].append(int(cols[i]))  \n",
    "        j+=1"
   ]
  },
  {
   "cell_type": "code",
   "execution_count": 4,
   "metadata": {},
   "outputs": [],
   "source": [
    "import matplotlib.pyplot as plt\n",
    "import numpy as np\n",
    "from PIL import Image\n",
    "\n",
    "def plot(img):\n",
    "    arr = np.asarray(img)\n",
    "    plt.imshow(arr.reshape(28,28), cmap='gray', vmin=0, vmax=255)"
   ]
  },
  {
   "cell_type": "code",
   "execution_count": 5,
   "metadata": {},
   "outputs": [],
   "source": [
    "import math\n",
    "\n",
    "def euclidean_distance(ar1, ar2):\n",
    "    n = len(ar1)\n",
    "    \n",
    "    sum=0\n",
    "    \n",
    "    for i in range(n):\n",
    "        sum += (ar1[i]-ar2[i])**2\n",
    "    \n",
    "    return math.sqrt(sum)"
   ]
  },
  {
   "cell_type": "code",
   "execution_count": 6,
   "metadata": {},
   "outputs": [
    {
     "name": "stdout",
     "output_type": "stream",
     "text": [
      "1 1\n"
     ]
    },
    {
     "data": {
      "text/plain": [
       "785.8040468208343"
      ]
     },
     "execution_count": 6,
     "metadata": {},
     "output_type": "execute_result"
    }
   ],
   "source": [
    "print(str(labels[2])+' '+str(labels[5]))\n",
    "euclidean_distance(data[2], data[5])"
   ]
  },
  {
   "cell_type": "code",
   "execution_count": 9,
   "metadata": {},
   "outputs": [],
   "source": [
    "def char_print(data, index):\n",
    "    img = [None]*(28*28)\n",
    "    for n, pix in enumerate(data[index]):\n",
    "        if pix < 64:\n",
    "            img[n] = ' '\n",
    "        elif pix < 128:\n",
    "            img[n] = '.'\n",
    "        elif pix < 192:\n",
    "            img[n] = '*'\n",
    "        else:\n",
    "            img[n] = '#'\n",
    "    \n",
    "    for i in range (28):\n",
    "        print((''.join(img[i*28:i*28+28])))"
   ]
  },
  {
   "cell_type": "code",
   "execution_count": 10,
   "metadata": {},
   "outputs": [
    {
     "name": "stdout",
     "output_type": "stream",
     "text": [
      "                            \n",
      "                            \n",
      "                            \n",
      "                            \n",
      "                            \n",
      "              .#      **    \n",
      "             .##..*#####    \n",
      "            #########*.     \n",
      "           #####***.        \n",
      "          ##*               \n",
      "         *##                \n",
      "         ##                 \n",
      "        .##                 \n",
      "         ###*               \n",
      "         .#####.            \n",
      "            *###*           \n",
      "              *###*         \n",
      "                ###         \n",
      "                .##         \n",
      "                ###         \n",
      "              .###          \n",
      "        .    *###.          \n",
      "       .# .*###*            \n",
      "       .######.             \n",
      "        *##*.               \n",
      "                            \n",
      "                            \n",
      "                            \n"
     ]
    }
   ],
   "source": [
    "char_print(data, 129)"
   ]
  },
  {
   "cell_type": "code",
   "execution_count": 11,
   "metadata": {},
   "outputs": [
    {
     "name": "stdout",
     "output_type": "stream",
     "text": [
      "Euclidean distance:\n"
     ]
    },
    {
     "data": {
      "text/html": [
       "<table>\n",
       "<tbody>\n",
       "<tr><td>/ </td><td style=\"text-align: right;\">  26   </td><td style=\"text-align: right;\">  30   </td><td style=\"text-align: right;\">  32   </td><td style=\"text-align: right;\">  35   </td></tr>\n",
       "<tr><td>26</td><td style=\"text-align: right;\">   0   </td><td style=\"text-align: right;\">3539.22</td><td style=\"text-align: right;\">3556.42</td><td style=\"text-align: right;\">3223.21</td></tr>\n",
       "<tr><td>30</td><td style=\"text-align: right;\">3539.22</td><td style=\"text-align: right;\">   0   </td><td style=\"text-align: right;\">1171.83</td><td style=\"text-align: right;\">2531   </td></tr>\n",
       "<tr><td>32</td><td style=\"text-align: right;\">3556.42</td><td style=\"text-align: right;\">1171.83</td><td style=\"text-align: right;\">   0   </td><td style=\"text-align: right;\">2515.56</td></tr>\n",
       "<tr><td>35</td><td style=\"text-align: right;\">3223.21</td><td style=\"text-align: right;\">2531   </td><td style=\"text-align: right;\">2515.56</td><td style=\"text-align: right;\">   0   </td></tr>\n",
       "</tbody>\n",
       "</table>"
      ],
      "text/plain": [
       "<IPython.core.display.HTML object>"
      ]
     },
     "metadata": {},
     "output_type": "display_data"
    },
    {
     "name": "stdout",
     "output_type": "stream",
     "text": [
      "26=0\n",
      "30=1\n",
      "32=1\n",
      "35=7\n"
     ]
    }
   ],
   "source": [
    "print('Euclidean distance:')\n",
    "_26_30 = euclidean_distance(data[25], data[29])\n",
    "_26_32 = euclidean_distance(data[25], data[31])\n",
    "_26_35 = euclidean_distance(data[25], data[34])\n",
    "_30_32 = euclidean_distance(data[29], data[31])\n",
    "_30_35 = euclidean_distance(data[29], data[34])\n",
    "_32_35 = euclidean_distance(data[31], data[34])\n",
    "\n",
    "from IPython.display import HTML, display\n",
    "import tabulate\n",
    "table = [['/', '26', '30','32','35'],\n",
    "        [\"26\",0,_26_30, _26_32, _26_35],\n",
    "         [\"30\",_26_30, 0, _30_32, _30_35],\n",
    "         [\"32\",_26_32, _30_32, 0, _32_35],\n",
    "         [\"35\",_26_35, _30_35, _32_35, 0]]\n",
    "display(HTML(tabulate.tabulate(table, tablefmt='html')))\n",
    "\n",
    "\n",
    "print('26='+str(labels[25]))\n",
    "print('30='+str(labels[29]))\n",
    "print('32='+str(labels[31]))\n",
    "print('35='+str(labels[34]))\n"
   ]
  },
  {
   "cell_type": "code",
   "execution_count": 12,
   "metadata": {},
   "outputs": [],
   "source": [
    "zeros = []\n",
    "ones = []\n",
    "\n",
    "for index, img in enumerate(data):\n",
    "    if labels[index]==0:\n",
    "        zeros.append(data[index])\n",
    "    elif labels[index]==1:\n",
    "        ones.append(data[index])\n",
    "for i in range(len(zeros)):\n",
    "    for j in range(len(zeros[i])):\n",
    "        if zeros[i][j]<128:\n",
    "            zeros[i][j]=1\n",
    "        else: zeros[i][j]=0\n",
    "            \n",
    "for i in range(len(ones)):\n",
    "    for j in range(len(ones[i])):\n",
    "        if ones[i][j]<128:\n",
    "            ones[i][j]=1\n",
    "        else: ones[i][j]=0\n",
    "\n",
    "Z = [0]*(28*28)\n",
    "O = [0]*(28*28)\n",
    "\n",
    "for i in range(len(zeros)):\n",
    "    for j in range(28*28):\n",
    "        Z[j]+=zeros[i][j]\n",
    "        O[j]+=ones[i][j]\n",
    "\n",
    "diff = [0]*(28*28)       \n",
    "for i in range(len(Z)):\n",
    "        diff[i] = Z[i]-O[i]\n",
    "\n",
    "max_val = max(diff, key=abs)\n"
   ]
  },
  {
   "cell_type": "code",
   "execution_count": 96,
   "metadata": {},
   "outputs": [
    {
     "data": {
      "image/png": "[encoded data removed]",
      "text/plain": [
       "<Figure size 432x288 with 1 Axes>"
      ]
     },
     "metadata": {
      "needs_background": "light"
     },
     "output_type": "display_data"
    }
   ],
   "source": [
    "for i in range(len(diff)):\n",
    "    diff[i] = abs(int(diff[i]*256/max_val))\n",
    "plot(diff)"
   ]
  }
 ],
 "metadata": {
  "kernelspec": {
   "display_name": "Python 3",
   "language": "python",
   "name": "python3"
  },
  "language_info": {
   "codemirror_mode": {
    "name": "ipython",
    "version": 3
   },
   "file_extension": ".py",
   "mimetype": "text/x-python",
   "name": "python",
   "nbconvert_exporter": "python",
   "pygments_lexer": "ipython3",
   "version": "3.7.4"
  }
 },
 "nbformat": 4,
 "nbformat_minor": 2
}
